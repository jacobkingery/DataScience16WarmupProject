{
 "cells": [
  {
   "cell_type": "markdown",
   "metadata": {},
   "source": [
    "## Import data"
   ]
  },
  {
   "cell_type": "code",
   "execution_count": 54,
   "metadata": {
    "collapsed": false
   },
   "outputs": [
    {
     "data": {
      "text/html": [
       "<div>\n",
       "<table border=\"1\" class=\"dataframe\">\n",
       "  <thead>\n",
       "    <tr style=\"text-align: right;\">\n",
       "      <th></th>\n",
       "      <th>PassengerId</th>\n",
       "      <th>Survived</th>\n",
       "      <th>Pclass</th>\n",
       "      <th>Name</th>\n",
       "      <th>Sex</th>\n",
       "      <th>Age</th>\n",
       "      <th>SibSp</th>\n",
       "      <th>Parch</th>\n",
       "      <th>Ticket</th>\n",
       "      <th>Fare</th>\n",
       "      <th>Cabin</th>\n",
       "      <th>Embarked</th>\n",
       "    </tr>\n",
       "  </thead>\n",
       "  <tbody>\n",
       "    <tr>\n",
       "      <th>0</th>\n",
       "      <td>1</td>\n",
       "      <td>0</td>\n",
       "      <td>3</td>\n",
       "      <td>Braund, Mr. Owen Harris</td>\n",
       "      <td>male</td>\n",
       "      <td>22</td>\n",
       "      <td>1</td>\n",
       "      <td>0</td>\n",
       "      <td>A/5 21171</td>\n",
       "      <td>7.2500</td>\n",
       "      <td>NaN</td>\n",
       "      <td>S</td>\n",
       "    </tr>\n",
       "    <tr>\n",
       "      <th>1</th>\n",
       "      <td>2</td>\n",
       "      <td>1</td>\n",
       "      <td>1</td>\n",
       "      <td>Cumings, Mrs. John Bradley (Florence Briggs Th...</td>\n",
       "      <td>female</td>\n",
       "      <td>38</td>\n",
       "      <td>1</td>\n",
       "      <td>0</td>\n",
       "      <td>PC 17599</td>\n",
       "      <td>71.2833</td>\n",
       "      <td>C85</td>\n",
       "      <td>C</td>\n",
       "    </tr>\n",
       "    <tr>\n",
       "      <th>2</th>\n",
       "      <td>3</td>\n",
       "      <td>1</td>\n",
       "      <td>3</td>\n",
       "      <td>Heikkinen, Miss. Laina</td>\n",
       "      <td>female</td>\n",
       "      <td>26</td>\n",
       "      <td>0</td>\n",
       "      <td>0</td>\n",
       "      <td>STON/O2. 3101282</td>\n",
       "      <td>7.9250</td>\n",
       "      <td>NaN</td>\n",
       "      <td>S</td>\n",
       "    </tr>\n",
       "    <tr>\n",
       "      <th>3</th>\n",
       "      <td>4</td>\n",
       "      <td>1</td>\n",
       "      <td>1</td>\n",
       "      <td>Futrelle, Mrs. Jacques Heath (Lily May Peel)</td>\n",
       "      <td>female</td>\n",
       "      <td>35</td>\n",
       "      <td>1</td>\n",
       "      <td>0</td>\n",
       "      <td>113803</td>\n",
       "      <td>53.1000</td>\n",
       "      <td>C123</td>\n",
       "      <td>S</td>\n",
       "    </tr>\n",
       "    <tr>\n",
       "      <th>4</th>\n",
       "      <td>5</td>\n",
       "      <td>0</td>\n",
       "      <td>3</td>\n",
       "      <td>Allen, Mr. William Henry</td>\n",
       "      <td>male</td>\n",
       "      <td>35</td>\n",
       "      <td>0</td>\n",
       "      <td>0</td>\n",
       "      <td>373450</td>\n",
       "      <td>8.0500</td>\n",
       "      <td>NaN</td>\n",
       "      <td>S</td>\n",
       "    </tr>\n",
       "  </tbody>\n",
       "</table>\n",
       "</div>"
      ],
      "text/plain": [
       "   PassengerId  Survived  Pclass  \\\n",
       "0            1         0       3   \n",
       "1            2         1       1   \n",
       "2            3         1       3   \n",
       "3            4         1       1   \n",
       "4            5         0       3   \n",
       "\n",
       "                                                Name     Sex  Age  SibSp  \\\n",
       "0                            Braund, Mr. Owen Harris    male   22      1   \n",
       "1  Cumings, Mrs. John Bradley (Florence Briggs Th...  female   38      1   \n",
       "2                             Heikkinen, Miss. Laina  female   26      0   \n",
       "3       Futrelle, Mrs. Jacques Heath (Lily May Peel)  female   35      1   \n",
       "4                           Allen, Mr. William Henry    male   35      0   \n",
       "\n",
       "   Parch            Ticket     Fare Cabin Embarked  \n",
       "0      0         A/5 21171   7.2500   NaN        S  \n",
       "1      0          PC 17599  71.2833   C85        C  \n",
       "2      0  STON/O2. 3101282   7.9250   NaN        S  \n",
       "3      0            113803  53.1000  C123        S  \n",
       "4      0            373450   8.0500   NaN        S  "
      ]
     },
     "execution_count": 54,
     "metadata": {},
     "output_type": "execute_result"
    }
   ],
   "source": [
    "import pandas as pd\n",
    "\n",
    "df = pd.read_csv('train.csv')\n",
    "df.head()"
   ]
  },
  {
   "cell_type": "markdown",
   "metadata": {},
   "source": [
    "## Helper function for calculating survival rate"
   ]
  },
  {
   "cell_type": "code",
   "execution_count": 68,
   "metadata": {
    "collapsed": true
   },
   "outputs": [],
   "source": [
    "def getRate(group):\n",
    "    \"\"\"\n",
    "    Given a group of passengers, return the survival rate\n",
    "    \"\"\"\n",
    "    if len(group):\n",
    "        return sum(group.Survived) / float(len(group))\n",
    "    else:\n",
    "        return 0.0"
   ]
  },
  {
   "cell_type": "markdown",
   "metadata": {},
   "source": [
    "## Looking at individual features"
   ]
  },
  {
   "cell_type": "code",
   "execution_count": 35,
   "metadata": {
    "collapsed": false
   },
   "outputs": [
    {
     "name": "stdout",
     "output_type": "stream",
     "text": [
      "Survival Rates by Gender:\n",
      "Males (577):\t0.188908145581\n",
      "Females (314):\t0.742038216561\n"
     ]
    }
   ],
   "source": [
    "males = df[df.Sex == 'male']\n",
    "females = df[df.Sex == 'female']\n",
    "\n",
    "print 'Survival Rates by Gender:'\n",
    "print 'Males ({}):\\t'.format(len(males)), getRate(males)\n",
    "print 'Females ({}):\\t'.format(len(females)), getRate(females)"
   ]
  },
  {
   "cell_type": "markdown",
   "metadata": {},
   "source": [
    "I was shocked to see that males had a survival rate of 0.19 while females had a survival rate of 0.74.  I was expecting females to have a higher survival rate because of the saying 'women and children first,' but not by this much."
   ]
  },
  {
   "cell_type": "code",
   "execution_count": 36,
   "metadata": {
    "collapsed": false
   },
   "outputs": [
    {
     "name": "stdout",
     "output_type": "stream",
     "text": [
      "Survival Rates by Passenger Class:\n",
      "Upper (216):\t0.62962962963\n",
      "Middle (184):\t0.472826086957\n",
      "Lower (491):\t0.242362525458\n"
     ]
    }
   ],
   "source": [
    "upper = df[df.Pclass == 1]\n",
    "middle = df[df.Pclass == 2]\n",
    "lower = df[df.Pclass == 3]\n",
    "\n",
    "print 'Survival Rates by Passenger Class:'\n",
    "print 'Upper ({}):\\t'.format(len(upper)), getRate(upper)\n",
    "print 'Middle ({}):\\t'.format(len(middle)), getRate(middle)\n",
    "print 'Lower ({}):\\t'.format(len(lower)), getRate(lower)"
   ]
  },
  {
   "cell_type": "markdown",
   "metadata": {},
   "source": [
    "Upper class passengers had a survival rate of 0.63, middle class passengers had a survival rate of 0.47, and lower class passengers had a survival rate of 0.24.  This is not very surprising since I would guess that the upper class passengers would have cabins located higher up on the ship.  It is also possible that they were given preferential treatment in the evacuation process."
   ]
  },
  {
   "cell_type": "code",
   "execution_count": 55,
   "metadata": {
    "collapsed": false
   },
   "outputs": [
    {
     "name": "stdout",
     "output_type": "stream",
     "text": [
      "Survival Rates by Age:\n",
      "Unknown (177):\t0.293785310734\n",
      "Infants (24):\t0.625\n",
      "Children (89):\t0.516853932584\n",
      "Adults (601):\t0.381031613977\n"
     ]
    }
   ],
   "source": [
    "unknown = df[df.Age.isnull()]\n",
    "infants = df[df.Age <= 2]\n",
    "children = df[(df.Age > 2) & (df.Age < 18)]\n",
    "adults = df[df.Age >= 18]\n",
    "\n",
    "print 'Survival Rates by Age:'\n",
    "print 'Unknown ({}):\\t'.format(len(unknown)), getRate(unknown)\n",
    "print 'Infants ({}):\\t'.format(len(infants)), getRate(infants)\n",
    "print 'Children ({}):\\t'.format(len(children)), getRate(children)\n",
    "print 'Adults ({}):\\t'.format(len(adults)), getRate(adults)"
   ]
  },
  {
   "cell_type": "markdown",
   "metadata": {},
   "source": [
    "Unlike with the previous categories, there were some passengers of unknown age.  They had a survival rate of 0.29, infants (less than two years old) had a survival rate of 0.63, children (two to 18 years old) had a survival rate of 0.52, and adults (18 years or older) had a survival rate of 0.38.  The higher survival rate in infants and children is unsurprising for the same reason as the higher survival rate in females."
   ]
  },
  {
   "cell_type": "code",
   "execution_count": 59,
   "metadata": {
    "collapsed": false
   },
   "outputs": [
    {
     "name": "stdout",
     "output_type": "stream",
     "text": [
      "Survival Rates by Port of Embarkation:\n",
      "Unknown (2):\t\t1.0\n",
      "Cherbourg (168):\t0.553571428571\n",
      "Queenstown (77):\t0.38961038961\n",
      "Southampton (644):\t0.336956521739\n"
     ]
    }
   ],
   "source": [
    "unknown = df[df.Embarked.isnull()]\n",
    "cherbourg = df[df.Embarked == 'C']\n",
    "queenstown = df[df.Embarked == 'Q']\n",
    "southampton = df[df.Embarked == 'S']\n",
    "\n",
    "print 'Survival Rates by Port of Embarkation:'\n",
    "print 'Unknown ({}):\\t\\t'.format(len(unknown)), getRate(unknown)\n",
    "print 'Cherbourg ({}):\\t'.format(len(cherbourg)), getRate(cherbourg)\n",
    "print 'Queenstown ({}):\\t'.format(len(queenstown)), getRate(queenstown)\n",
    "print 'Southampton ({}):\\t'.format(len(southampton)), getRate(southampton)\n"
   ]
  },
  {
   "cell_type": "markdown",
   "metadata": {},
   "source": [
    "I was not expecting the port of embarkation to have much of an effect on survival rate, but it does look like those who boarded in Cherbourg had a higher survival rate (0.55) than those who boarded in Queenstown or Southampton (0.39 and 0.34, respectively).  My guess is that Cherbourg had a higher percentage of women, children, or upper class passengers than the other locations."
   ]
  },
  {
   "cell_type": "markdown",
   "metadata": {},
   "source": [
    "## Looking at combinations of features"
   ]
  },
  {
   "cell_type": "code",
   "execution_count": 64,
   "metadata": {
    "collapsed": false
   },
   "outputs": [
    {
     "name": "stdout",
     "output_type": "stream",
     "text": [
      "Survival Rates by Passenger Class and Gender:\n",
      "Upper Males (122):\t0.368852459016\n",
      "Upper Females (94):\t0.968085106383\n",
      "Middle Males (108):\t0.157407407407\n",
      "Middle Females (76):\t0.921052631579\n",
      "Lower Males (347):\t0.135446685879\n",
      "Lower Females (144):\t0.5\n"
     ]
    }
   ],
   "source": [
    "upper_males = df[(df.Pclass == 1) & (df.Sex == 'male')]\n",
    "upper_females = df[(df.Pclass == 1) & (df.Sex == 'female')]\n",
    "middle_males = df[(df.Pclass == 2) & (df.Sex == 'male')]\n",
    "middle_females = df[(df.Pclass == 2) & (df.Sex == 'female')]\n",
    "lower_males = df[(df.Pclass == 3) & (df.Sex == 'male')]\n",
    "lower_females = df[(df.Pclass == 3) & (df.Sex == 'female')]\n",
    "\n",
    "print 'Survival Rates by Passenger Class and Gender:'\n",
    "print 'Upper Males ({}):\\t'.format(len(upper_males)), getRate(upper_males)\n",
    "print 'Upper Females ({}):\\t'.format(len(upper_females)), getRate(upper_females)\n",
    "print 'Middle Males ({}):\\t'.format(len(middle_males)), getRate(middle_males)\n",
    "print 'Middle Females ({}):\\t'.format(len(middle_females)), getRate(middle_females)\n",
    "print 'Lower Males ({}):\\t'.format(len(lower_males)), getRate(lower_males)\n",
    "print 'Lower Females ({}):\\t'.format(len(lower_females)), getRate(lower_females)"
   ]
  },
  {
   "cell_type": "markdown",
   "metadata": {},
   "source": [
    "This makes sense; within a passenger class, the females had the higher rate of survival, and within a gender, the upper class had the highest rate of survival.  It is a little surprising to me how drastic the difference is between the classes.  Upper and middle class females had survival rates of over 0.92 while lower class females had a survival rate of only 0.50.  For males, the middle class swung the other way.  Upper class males had a survival rate of 0.37 while middle and lower class males had survival rates of less than 0.16.  In both cases, one or two groups had approximately double the survival rate of the other(s), but the middle class was not consistent between male and female as to which category it was in."
   ]
  },
  {
   "cell_type": "code",
   "execution_count": 81,
   "metadata": {
    "collapsed": false
   },
   "outputs": [
    {
     "name": "stdout",
     "output_type": "stream",
     "text": [
      "Survival Rates by Passenger Class and Gender:\n",
      "Infant Males (14):\t0.642857142857\n",
      "Infant Females (10):\t0.6\n",
      "Child Males (44):\t0.318181818182\n",
      "Child Females (45):\t0.711111111111\n",
      "Adult Males (395):\t0.177215189873\n",
      "Adult Females (206):\t0.771844660194\n"
     ]
    }
   ],
   "source": [
    "infant_males = df[(df.Age <= 2) & (df.Sex == 'male')]\n",
    "infant_females = df[(df.Age <= 2) & (df.Sex == 'female')]\n",
    "child_males = df[(df.Age > 2) & (df.Age < 18) & (df.Sex == 'male')]\n",
    "child_females = df[(df.Age > 2) & (df.Age < 18) & (df.Sex == 'female')]\n",
    "adult_males = df[(df.Age >= 18) & (df.Sex == 'male')]\n",
    "adult_females = df[(df.Age >= 18) & (df.Sex == 'female')]\n",
    "\n",
    "print 'Survival Rates by Passenger Class and Gender:'\n",
    "print 'Infant Males ({}):\\t'.format(len(infant_males)), getRate(infant_males)\n",
    "print 'Infant Females ({}):\\t'.format(len(infant_females)), getRate(infant_females)\n",
    "print 'Child Males ({}):\\t'.format(len(child_males)), getRate(child_males)\n",
    "print 'Child Females ({}):\\t'.format(len(child_females)), getRate(child_females)\n",
    "print 'Adult Males ({}):\\t'.format(len(adult_males)), getRate(adult_males)\n",
    "print 'Adult Females ({}):\\t'.format(len(adult_females)), getRate(adult_females)"
   ]
  },
  {
   "cell_type": "markdown",
   "metadata": {},
   "source": [
    "There are a couple of surprises here.  Adult females had a greater survival rate than child females, but not by a huge amount, and both were quite high.  Child males had a higher survival rate than adult males but a lower survival rate than child females, but infant males had a higher survival rate than infant females.  Recalling the 'women and children first' saying, it makes sense that infants had around the same survival rate regardless of gender. However, it seems like the definition of 'children' might have had a lower upper bound than the age of 18 (which was how I was classifying children)."
   ]
  },
  {
   "cell_type": "markdown",
   "metadata": {},
   "source": [
    "## Visualizing a relationship with a continuous feature"
   ]
  },
  {
   "cell_type": "code",
   "execution_count": 84,
   "metadata": {
    "collapsed": false
   },
   "outputs": [],
   "source": [
    "df_has_age = df[df.Age.notnull()]\n"
   ]
  }
 ],
 "metadata": {
  "kernelspec": {
   "display_name": "Python 2",
   "language": "python",
   "name": "python2"
  },
  "language_info": {
   "codemirror_mode": {
    "name": "ipython",
    "version": 2
   },
   "file_extension": ".py",
   "mimetype": "text/x-python",
   "name": "python",
   "nbconvert_exporter": "python",
   "pygments_lexer": "ipython2",
   "version": "2.7.3"
  }
 },
 "nbformat": 4,
 "nbformat_minor": 0
}
